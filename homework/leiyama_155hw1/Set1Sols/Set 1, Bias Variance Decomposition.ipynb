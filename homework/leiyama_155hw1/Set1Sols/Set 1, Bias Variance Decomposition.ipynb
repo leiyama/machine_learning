{
 "cells": [
  {
   "cell_type": "markdown",
   "metadata": {},
   "source": [
    "## Question A\n",
    "Generate Data"
   ]
  },
  {
   "cell_type": "code",
   "execution_count": 1,
   "metadata": {
    "collapsed": false
   },
   "outputs": [
    {
     "name": "stdout",
     "output_type": "stream",
     "text": [
      "[ 0.00605629  0.00010638]\n"
     ]
    }
   ],
   "source": [
    "import numpy as np\n",
    "\n",
    "x = np.random.rand(10000, 2) * 2 - 1\n",
    "y = np.sin(np.pi * x)\n",
    "Ey = np.mean(y, 0)\n",
    "print Ey"
   ]
  },
  {
   "cell_type": "markdown",
   "metadata": {},
   "source": [
    "## Question B"
   ]
  },
  {
   "cell_type": "code",
   "execution_count": 2,
   "metadata": {
    "collapsed": false
   },
   "outputs": [
    {
     "name": "stdout",
     "output_type": "stream",
     "text": [
      "Eout(g) = 0.751841426963  or Analytically 0.752054763952\n",
      "Eout(h) = 1.91534637665  or Analyrically 1.91479022968\n"
     ]
    }
   ],
   "source": [
    "# Hypotheses for g\n",
    "gb = np.dot(y, [.5, .5])\n",
    "\n",
    "# Calculate Eout for g using Monte Carlo\n",
    "squarederrors = []\n",
    "for b in gb:\n",
    "    xt = np.random.rand(1000) * 2 - 1\n",
    "    yt = np.sin(np.pi * xt)\n",
    "    se = (yt-b) ** 2\n",
    "    squarederrors.append(np.mean(se))\n",
    "Eoutg = np.mean(squarederrors)\n",
    "\n",
    "# Eout for g in an analytic method can be done by taking the definite \n",
    "# integral of (sin(pi x) - b)^2 and dividing it over the the interval length\n",
    "# (2). Wolfram alpha tells us the Eout of a hypothesis g(x) = b is b^2 + .5\n",
    "\n",
    "Eoutg2 = np.mean(gb ** 2 + .5)\n",
    "\n",
    "# Hypotheses for h\n",
    "hm = np.dot(y, [-1,1]) / np.dot(x,[-1,1])\n",
    "hb = y[:,0] - hm * x[:,0]\n",
    "\n",
    "# Calculate Eout for h\n",
    "squarederrors = []\n",
    "for (m,b) in zip(hm, hb):\n",
    "    xt = np.random.rand(1000) * 2 - 1\n",
    "    yt = np.sin(np.pi * xt)\n",
    "    se = (yt - xt*m - b) ** 2\n",
    "    squarederrors.append(np.mean(se))\n",
    "Eouth = np.mean(squarederrors)\n",
    "\n",
    "# Calculate Eout for h analytically\n",
    "Eouth2 = np.mean(hb ** 2 + hm **2 /3 - 2 * hm/np.pi + .5)\n",
    "\n",
    "print \"Eout(g) =\", Eoutg, \" or Analytically\", Eoutg2\n",
    "print \"Eout(h) =\", Eouth, \" or Analyrically\", Eouth2"
   ]
  },
  {
   "cell_type": "markdown",
   "metadata": {},
   "source": [
    "## Question C"
   ]
  },
  {
   "cell_type": "code",
   "execution_count": 3,
   "metadata": {
    "collapsed": false
   },
   "outputs": [
    {
     "name": "stdout",
     "output_type": "stream",
     "text": [
      "g =  0.00308133708589\n",
      "h =  0.760316325802 x +  0.0161330802208\n"
     ]
    }
   ],
   "source": [
    "# Average hypothesis for g\n",
    "Egb = np.mean(gb)\n",
    "print \"g = \", Egb\n",
    "\n",
    "# Average hypothesis for h\n",
    "Ehb = np.mean(hb)\n",
    "Ehm = np.mean(hm)\n",
    "print \"h = \", Ehm, \"x + \", Ehb"
   ]
  },
  {
   "cell_type": "markdown",
   "metadata": {},
   "source": [
    "## Question D"
   ]
  },
  {
   "cell_type": "code",
   "execution_count": 4,
   "metadata": {
    "collapsed": false
   },
   "outputs": [
    {
     "name": "stdout",
     "output_type": "stream",
     "text": [
      "g: bias = 0.500009494638  var =  0.252045269313\n",
      "bias + var = 0.752054763952  Eout= 0.751841426963\n",
      "h: bias = 0.214410085139  var =  1.70586872123\n",
      "bias + var = 1.92027880637  Eout= 1.91534637665\n"
     ]
    }
   ],
   "source": [
    "# bias for g\n",
    "\n",
    "# An analytical solution should be quite simple here. We have previously\n",
    "# calculated the definite integral of (sin(pi x) - b)^2. Since the average\n",
    "# here is of the same form, we can apply the same definte integral\n",
    "\n",
    "# A Monte Carlo or numeric integration will give similar results\n",
    "\n",
    "biasg = .5 + Egb ** 2\n",
    "\n",
    "# variance for g\n",
    "# note that g and \\bar{g} are independent of x. Thus E_x[var(g)] = var(g)\n",
    "varg = np.mean((gb-Egb) ** 2)\n",
    "print \"g: bias =\", biasg, \" var = \", varg\n",
    "print \"bias + var =\", biasg + varg, \" Eout=\", Eoutg\n",
    "\n",
    "# bias for h\n",
    "# Example monte carlo method\n",
    "xt = np.random.rand(1000) * 2 - 1\n",
    "yt = np.sin(np.pi * xt)\n",
    "biases = (yt - xt*Ehm - Ehb) ** 2\n",
    "biash = np.mean(biases)\n",
    "\n",
    "# Analytical solution here isn't bad. \n",
    "\n",
    "# variance for h\n",
    "# Solving for E_x[((m-\\bar{m})x + b-\\bar{b})^2] we can use integration and find\n",
    "# var(h)= (b-\\bar{b})^2 + (m-\\bar{m})^2 / 3\n",
    "\n",
    "varh = np.mean((hb - Ehb) ** 2 + (hm - Ehm) ** 2 / 3)\n",
    "\n",
    "print \"h: bias =\", biash, \" var = \", varh\n",
    "print \"bias + var =\", biash + varh, \" Eout=\", Eouth\n"
   ]
  },
  {
   "cell_type": "code",
   "execution_count": null,
   "metadata": {
    "collapsed": false
   },
   "outputs": [],
   "source": []
  }
 ],
 "metadata": {
  "kernelspec": {
   "display_name": "Python 2",
   "language": "python",
   "name": "python2"
  },
  "language_info": {
   "codemirror_mode": {
    "name": "ipython",
    "version": 2
   },
   "file_extension": ".py",
   "mimetype": "text/x-python",
   "name": "python",
   "nbconvert_exporter": "python",
   "pygments_lexer": "ipython2",
   "version": "2.7.11"
  }
 },
 "nbformat": 4,
 "nbformat_minor": 0
}
