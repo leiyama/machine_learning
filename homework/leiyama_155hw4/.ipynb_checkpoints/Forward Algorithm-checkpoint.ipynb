{
 "cells": [
  {
   "cell_type": "code",
   "execution_count": null,
   "metadata": {
    "collapsed": true
   },
   "outputs": [],
   "source": [
    "'''This python file only contains core code for forward algorithm.\n",
    "It cannot be executed because it is part of the total code(which include\n",
    "loading txt file, outputing results etc.)'''\n",
    "\n",
    "\n",
    "'''First we initiate our forward matrix,'''\n",
    "def initialize_forward_mat(self, sequence):\n",
    "    self.forward_mat = []\n",
    "    for i in range(0, self.num_states):\n",
    "        row = []\n",
    "        for j in range(0, len(sequence)):\n",
    "            if j == 0:\n",
    "                seq_int = int(sequence[0])\n",
    "                # Calculate initial probabilities.\n",
    "                val = (1.0 / self.num_states) * self.output_emiss_mat[i][seq_int]\n",
    "                row.append(val)\n",
    "            else:\n",
    "                row.append(0)\n",
    "        self.forward_mat.append(row)\n",
    "\n",
    "'''Then we run the foward algorithm by going through each item in sequence and each state'''\n",
    "def run(self, sequence):\n",
    "    self.initialize_forward_mat(sequence)\n",
    "    \n",
    "    # Traverse by column\n",
    "    for seq_pos in range(1, len(sequence)):\n",
    "        for state_curr in range(0, self.num_states):\n",
    "            \n",
    "            seq_int = int(sequence[seq_pos])\n",
    "            emiss_score = self.output_emiss_mat[state_curr][seq_int]\n",
    "            sum_score = 0\n",
    "            \n",
    "            for state_prev in range(0, self.num_states):\n",
    "                # Calculate score coming from each previous state and sum them up\n",
    "                trans_score = self.state_trans_mat[state_prev][state_curr]\n",
    "                forward_score = self.forward_mat[state_prev][seq_pos - 1]\n",
    "                score = emiss_score * trans_score * forward_score\n",
    "                sum_score += score\n",
    "            self.forward_mat[state_curr][seq_pos] = sum_score\n",
    "\n",
    "    answer = 0\n",
    "    # Sum up probabilities in last column (these are the probabilities\n",
    "    # that we get our sequence ending in different states)\n",
    "    for i in range(0, self.num_states):\n",
    "        answer += self.forward_mat[i][len(sequence) - 1]"
   ]
  }
 ],
 "metadata": {
  "kernelspec": {
   "display_name": "Python 2",
   "language": "python",
   "name": "python2"
  },
  "language_info": {
   "codemirror_mode": {
    "name": "ipython",
    "version": 2
   },
   "file_extension": ".py",
   "mimetype": "text/x-python",
   "name": "python",
   "nbconvert_exporter": "python",
   "pygments_lexer": "ipython2",
   "version": "2.7.11"
  }
 },
 "nbformat": 4,
 "nbformat_minor": 0
}
