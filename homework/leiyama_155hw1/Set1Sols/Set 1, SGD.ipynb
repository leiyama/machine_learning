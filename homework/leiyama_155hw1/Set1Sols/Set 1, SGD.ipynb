{
 "cells": [
  {
   "cell_type": "markdown",
   "metadata": {},
   "source": [
    "# Generate Data\n",
    "First, we will show you how we generated the data"
   ]
  },
  {
   "cell_type": "code",
   "execution_count": 1,
   "metadata": {
    "collapsed": true
   },
   "outputs": [],
   "source": [
    "import numpy as np\n",
    "\n",
    "# data generation\n",
    "def create_data(filename, w, b, N):\n",
    "    x = np.random.rand(w.shape[1], N) * 100\n",
    "    y = np.dot(w, x) + b + np.random.normal(0, 2, N)\n",
    "    result = np.transpose(np.vstack((x, y)))\n",
    "    np.savetxt(filename, result, fmt='%.5f',\n",
    "               header=\"x1,x2,x3,x4,y\", delimiter=',')"
   ]
  },
  {
   "cell_type": "code",
   "execution_count": 2,
   "metadata": {
    "collapsed": false
   },
   "outputs": [],
   "source": [
    "# Setup parameters and generate data\n",
    "wtarget = np.array([[-6, 4, -2, 4]])\n",
    "btarget = 2\n",
    "N = 1000\n",
    "create_data(\"data.txt\", wtarget, btarget, N)"
   ]
  },
  {
   "cell_type": "markdown",
   "metadata": {},
   "source": [
    "## Actual SGD implementation.\n",
    "\n",
    "First, we set up our data."
   ]
  },
  {
   "cell_type": "code",
   "execution_count": 3,
   "metadata": {
    "collapsed": false
   },
   "outputs": [],
   "source": [
    "# load data\n",
    "a = np.loadtxt(\"hw1ds1.txt\", delimiter=\",\", skiprows=1)\n",
    "N, D = a.shape\n",
    "y = a[:, D - 1]\n",
    "x = a[:, :D - 1]\n",
    "\n",
    "# add ones vector\n",
    "x = np.hstack((x, np.ones((N, 1))))\n",
    "\n",
    "# Initialize constants\n",
    "epsilon = .0001"
   ]
  },
  {
   "cell_type": "markdown",
   "metadata": {},
   "source": [
    "Function to calculate error"
   ]
  },
  {
   "cell_type": "code",
   "execution_count": 4,
   "metadata": {
    "collapsed": true
   },
   "outputs": [],
   "source": [
    "def modelerror(w, x, y):\n",
    "    diff = y - x.dot(w)\n",
    "    error = np.sum(diff ** 2)\n",
    "    return error"
   ]
  },
  {
   "cell_type": "markdown",
   "metadata": {},
   "source": [
    "SGD loop"
   ]
  },
  {
   "cell_type": "code",
   "execution_count": 5,
   "metadata": {
    "collapsed": false
   },
   "outputs": [],
   "source": [
    "def SGD(X, Y, nu, epsilon, epoch=1000, verbose=True):\n",
    "    # initialize weight vector\n",
    "    w = np.full(X[0].shape,0.001)\n",
    "\n",
    "    # get initial error\n",
    "    error = modelerror(w, X, Y)\n",
    "    print (\"Starting SGD with nu = {}, epsilon = {}, initial error: {}\".format(nu, epsilon, error))\n",
    "    firstchange = 0\n",
    "\n",
    "    order = []\n",
    "    errors = []\n",
    "    for i in range(0, 10000000):\n",
    "        # permute order\n",
    "        if i % N == 0:\n",
    "            order = np.random.permutation(N)\n",
    "        j = order[i % N]\n",
    "        \n",
    "        # calculate gradient\n",
    "        loss = Y[j] - X[j].dot(w)\n",
    "        dw = -2 * loss * X[j]\n",
    "        \n",
    "        # update step\n",
    "        w = w - dw  * nu\n",
    "        # Check every epoch\n",
    "        if i % epoch == epoch-1:\n",
    "            olderror = error\n",
    "            error = modelerror(w, X, Y)\n",
    "            errors.append(error)\n",
    "            derror = abs(error - olderror)\n",
    "            if not firstchange:\n",
    "                firstchange = derror\n",
    "                print \"First change in error:\", firstchange\n",
    "            if verbose:\n",
    "                print i + 1, error\n",
    "                print w\n",
    "            if derror/firstchange < epsilon:\n",
    "                print \"SGD complete in {} epochs. Final error: {}\".format(len(errors),error)\n",
    "                return w, errors"
   ]
  },
  {
   "cell_type": "code",
   "execution_count": 6,
   "metadata": {
    "collapsed": false
   },
   "outputs": [
    {
     "name": "stdout",
     "output_type": "stream",
     "text": [
      "Starting SGD with nu = 3.05902320502e-07, epsilon = 0.0001, initial error: 2961443551.63\n",
      "First change in error: 2210285329.21\n",
      "1000 751158222.419\n",
      "[-3.24938134  0.84608044 -5.79666008  3.18054826 -0.01819706]\n",
      "2000 282115458.971\n",
      "[-4.37869981  1.9500867  -8.27102098  5.41931704 -0.02180756]\n",
      "3000 100949814.561\n",
      "[-5.00756564  2.76280889 -9.72269584  6.91025014 -0.02115744]\n",
      "4000 37900623.3331\n",
      "[ -5.37453528   3.25300097 -10.57634331   7.76000363  -0.02074211]\n",
      "5000 13632440.988\n",
      "[ -5.61019276   3.51994306 -11.16091755   8.26717304  -0.02119739]\n",
      "6000 5116863.10355\n",
      "[ -5.76286452   3.71915109 -11.48682867   8.54501099  -0.02123268]\n",
      "7000 1885182.84688\n",
      "[ -5.86429341   3.83534335 -11.68463628   8.72697562  -0.02120249]\n",
      "8000 681534.883298\n",
      "[ -5.92550025   3.90506969 -11.81272803   8.83645652  -0.02121305]\n",
      "9000 282299.158942\n",
      "[ -5.96071879   3.94319164 -11.88497907   8.8965337   -0.02126594]\n",
      "10000 122038.452055\n",
      "[ -5.97564327   3.96851742 -11.93115557   8.94235337  -0.02121641]\n",
      "SGD complete in 10 epochs. Final error: 122038.452055\n"
     ]
    }
   ],
   "source": [
    "# Run SGD with epsilon = 0.0001, eta = e^-15\n",
    "W, errors = SGD(x, y, np.exp(-15), epsilon, epoch=1000)"
   ]
  },
  {
   "cell_type": "code",
   "execution_count": 7,
   "metadata": {
    "collapsed": false
   },
   "outputs": [
    {
     "name": "stdout",
     "output_type": "stream",
     "text": [
      "Starting SGD with nu = 1.52299797447e-08, epsilon = 0.0001, initial error: 2961443551.63\n",
      "First change in error: 478094665.2\n",
      "SGD complete in 155 epochs. Final error: 887595.472694\n",
      "Starting SGD with nu = 4.13993771879e-08, epsilon = 0.0001, initial error: 2961443551.63\n",
      "First change in error: 867825201.623\n",
      "SGD complete in 60 epochs. Final error: 601213.480579\n",
      "Starting SGD with nu = 1.12535174719e-07, epsilon = 0.0001, initial error: 2961443551.63\n",
      "First change in error: 1378388062.75\n",
      "SGD complete in 24 epochs. Final error: 313551.319929\n",
      "Starting SGD with nu = 3.05902320502e-07, epsilon = 0.0001, initial error: 2961443551.63\n",
      "First change in error: 2072079163.54\n",
      "SGD complete in 10 epochs. Final error: 125568.899584\n",
      "Starting SGD with nu = 8.31528719104e-07, epsilon = 0.0001, initial error: 2961443551.63\n",
      "First change in error: 2831938625.39\n",
      "SGD complete in 5 epochs. Final error: 41780.5064043\n",
      "Starting SGD with nu = 2.26032940698e-06, epsilon = 0.0001, initial error: 2961443551.63\n",
      "First change in error: 2960363614.71\n",
      "SGD complete in 3 epochs. Final error: 40907.0971558\n",
      "Starting SGD with nu = 6.14421235333e-06, epsilon = 0.0001, initial error: 2961443551.63\n",
      "First change in error: 2961403169.36\n",
      "SGD complete in 2 epochs. Final error: 40430.2932799\n"
     ]
    },
    {
     "data": {
      "image/png": "[encoded data removed]",
      "text/plain": [
       "<matplotlib.figure.Figure at 0x1bd72d30>"
      ]
     },
     "metadata": {},
     "output_type": "display_data"
    }
   ],
   "source": [
    "# Plot SGD trials over multiple eta values\n",
    "%matplotlib inline\n",
    "import matplotlib.pyplot as plt\n",
    "# make graphs bigger!\n",
    "plt.rcParams['figure.figsize'] = (12.0, 8.0)\n",
    "plt.figure()\n",
    "for i in np.arange(-18,-11):\n",
    "    W, errors = SGD(x, y, np.exp(i), epsilon, verbose=False)\n",
    "    plt.plot(errors, label='exp(' + str(i) + ')')\n",
    "    \n",
    "# plt.gca().set_yscale('log')\n",
    "plt.legend()\n",
    "plt.title(r'Error over number of epochs with varying $\\eta$ values')\n",
    "plt.xlabel('Number of epochs')\n",
    "plt.ylabel('Squared error')\n",
    "plt.show()"
   ]
  },
  {
   "cell_type": "markdown",
   "metadata": {},
   "source": [
    "# Analytical OLS"
   ]
  },
  {
   "cell_type": "code",
   "execution_count": 8,
   "metadata": {
    "collapsed": true
   },
   "outputs": [],
   "source": [
    "def OLS(X, Y):\n",
    "    \"\"\"Implements ordinary least squares estimation for linear regression\"\"\"\n",
    "    Xt = np.transpose(X)\n",
    "    return np.linalg.inv(Xt.dot(X)).dot(Xt.dot(Y))"
   ]
  },
  {
   "cell_type": "code",
   "execution_count": 9,
   "metadata": {
    "collapsed": false
   },
   "outputs": [
    {
     "name": "stdout",
     "output_type": "stream",
     "text": [
      "39684.7966258\n",
      "[ -5.99939736   3.9996877  -12.00124107   9.00040567   0.01812267]\n"
     ]
    }
   ],
   "source": [
    "wols = OLS(x, y)\n",
    "optimal = modelerror(wols, x, y)\n",
    "print optimal\n",
    "print wols"
   ]
  },
  {
   "cell_type": "code",
   "execution_count": null,
   "metadata": {
    "collapsed": true
   },
   "outputs": [],
   "source": []
  }
 ],
 "metadata": {
  "kernelspec": {
   "display_name": "Python 2",
   "language": "python",
   "name": "python2"
  },
  "language_info": {
   "codemirror_mode": {
    "name": "ipython",
    "version": 2
   },
   "file_extension": ".py",
   "mimetype": "text/x-python",
   "name": "python",
   "nbconvert_exporter": "python",
   "pygments_lexer": "ipython2",
   "version": "2.7.11"
  }
 },
 "nbformat": 4,
 "nbformat_minor": 0
}
