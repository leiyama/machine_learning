{
 "cells": [
  {
   "cell_type": "markdown",
   "metadata": {},
   "source": [
    "\n",
    "# CS155 Machine Learning & Data Mining"
   ]
  },
  {
   "cell_type": "markdown",
   "metadata": {},
   "source": [
    "---"
   ]
  },
  {
   "cell_type": "markdown",
   "metadata": {},
   "source": [
    "### Problem 1 "
   ]
  },
  {
   "cell_type": "markdown",
   "metadata": {},
   "source": [
    "Question A: Adding the penalty term will not decrease the training(in-sample) error. This is because adding the penalty term is equivalent to constraing the model complexity which will not bring down the in-sample error. Instead, constraining the model complexity must either increase the in-sample error or keep it unchanged."
   ]
  },
  {
   "cell_type": "markdown",
   "metadata": {},
   "source": [
    "Question B: l0 regulation is rarely used because it is flat or discontinuous everywhere. Therefore, it is very difficult to optimize using gradient descent algorithm."
   ]
  },
  {
   "cell_type": "markdown",
   "metadata": {},
   "source": [
    "Question C:"
   ]
  },
  {
   "cell_type": "code",
   "execution_count": 27,
   "metadata": {
    "collapsed": false,
    "scrolled": false
   },
   "outputs": [],
   "source": [
    "\n",
    "# # data generation\n",
    "# def create_data(filename, w, b, N):\n",
    "#     x = np.random.rand(w.shape[1], N) * 100\n",
    "#     y = np.dot(w, x) + b + np.random.normal(0, 2, N)\n",
    "#     result = np.transpose(np.vstack((x, y)))\n",
    "#     np.savetxt(filename, result, fmt='%.5f',\n",
    "#                header=\"x1,x2,x3,x4,y\", delimiter=',')"
   ]
  },
  {
   "cell_type": "code",
   "execution_count": 28,
   "metadata": {
    "collapsed": false
   },
   "outputs": [],
   "source": [
    "# Setup parameters and generate data\n",
    "# wtarget = np.array([[-6, 4, -2, 4]])\n",
    "# btarget = 2\n",
    "# N = 1000\n",
    "# create_data(\"data.txt\", wtarget, btarget, N)"
   ]
  },
  {
   "cell_type": "code",
   "execution_count": 35,
   "metadata": {
    "collapsed": false
   },
   "outputs": [],
   "source": [
    "import numpy as np\n",
    "\n",
    "# load data\n",
    "a = np.loadtxt(\"/Users/LeiyaMa/Desktop/hw1ds1.txt\", delimiter=\",\", skiprows=1)\n",
    "N, D = a.shape\n",
    "y = a[:, D - 1]\n",
    "x = a[:, :D - 1]\n",
    "\n",
    "# add ones vector\n",
    "x = np.hstack((x, np.ones((N, 1))))\n",
    "\n",
    "# Initialize constants\n",
    "epsilon = .0001"
   ]
  },
  {
   "cell_type": "code",
   "execution_count": 36,
   "metadata": {
    "collapsed": true
   },
   "outputs": [],
   "source": [
    "def modelerror(w, x, y):\n",
    "    diff = y - x.dot(w)\n",
    "    error = np.sum(diff ** 2)\n",
    "    return error"
   ]
  },
  {
   "cell_type": "code",
   "execution_count": 37,
   "metadata": {
    "collapsed": true
   },
   "outputs": [],
   "source": [
    "def SGD(X, Y, nu, epsilon, epoch=1000, verbose=True):\n",
    "    # initialize weight vector\n",
    "    w = np.full(X[0].shape,0.001)\n",
    "\n",
    "    # get initial error\n",
    "    error = modelerror(w, X, Y)\n",
    "    print (\"Starting SGD with nu = {}, epsilon = {}, initial error: {}\".format(nu, epsilon, error))\n",
    "    firstchange = 0\n",
    "\n",
    "    order = []\n",
    "    errors = []\n",
    "    for i in range(0, 10000000):\n",
    "        # permute order\n",
    "        if i % N == 0:\n",
    "            order = np.random.permutation(N)\n",
    "        j = order[i % N]\n",
    "        \n",
    "        # calculate gradient\n",
    "        loss = Y[j] - X[j].dot(w)\n",
    "        dw = -2 * loss * X[j]\n",
    "        \n",
    "        # update step\n",
    "        w = w - dw  * nu\n",
    "        # Check every epoch\n",
    "        if i % epoch == epoch-1:\n",
    "            olderror = error\n",
    "            error = modelerror(w, X, Y)\n",
    "            errors.append(error)\n",
    "            derror = abs(error - olderror)\n",
    "            if not firstchange:\n",
    "                firstchange = derror\n",
    "                print \"First change in error:\", firstchange\n",
    "            if verbose:\n",
    "                print i + 1, error\n",
    "                print w\n",
    "            if derror/firstchange < epsilon:\n",
    "                print \"SGD complete in {} epochs. Final error: {}\".format(len(errors),error)\n",
    "                return w, errors"
   ]
  },
  {
   "cell_type": "code",
   "execution_count": 38,
   "metadata": {
    "collapsed": false
   },
   "outputs": [
    {
     "name": "stdout",
     "output_type": "stream",
     "text": [
      "Starting SGD with nu = 3.05902320502e-07, epsilon = 0.0001, initial error: 2960572358.8\n",
      "First change in error: 2130440503.25\n",
      "1000 830131855.552\n",
      "[-3.06657147  0.76302605 -5.50467425  2.83361884 -0.01884559]\n",
      "2000 303155102.057\n",
      "[-4.27211173  2.07257366 -8.11946284  5.19612965 -0.02080113]\n",
      "3000 112814079.659\n",
      "[-4.90103477  2.86813532 -9.64117403  6.67013024 -0.02101774]\n",
      "4000 40902089.7664\n",
      "[ -5.37981918   3.31778049 -10.55377266   7.60544579  -0.02038694]\n",
      "5000 14335114.123\n",
      "[ -5.63394037   3.5897215  -11.13713691   8.18648676  -0.0203899 ]\n",
      "6000 5410377.4934\n",
      "[ -5.78087917   3.74885436 -11.46888811   8.50154695  -0.0203072 ]\n",
      "7000 1887469.00402\n",
      "[ -5.87581935   3.84720749 -11.69023474   8.70756109  -0.02046913]\n",
      "8000 718817.564979\n",
      "[ -5.92371383   3.90877779 -11.81204543   8.82290797  -0.02041578]\n",
      "9000 268456.09078\n",
      "[ -5.95480166   3.94893464 -11.88764492   8.9019359   -0.0203829 ]\n",
      "10000 123239.278047\n",
      "[ -5.9747846    3.96711155 -11.93154291   8.94146814  -0.0204038 ]\n",
      "SGD complete in 10 epochs. Final error: 123239.278047\n"
     ]
    }
   ],
   "source": [
    "# Run SGD with epsilon = 0.0001, eta = e^-15\n",
    "W, errors = SGD(x, y, np.exp(-15), epsilon, epoch=1000)"
   ]
  },
  {
   "cell_type": "code",
   "execution_count": 39,
   "metadata": {
    "collapsed": false
   },
   "outputs": [
    {
     "name": "stdout",
     "output_type": "stream",
     "text": [
      "Starting SGD with nu = 1.52299797447e-08, epsilon = 0.0001, initial error: 2960572358.8\n",
      "First change in error: 440292890.476\n",
      "SGD complete in 155 epochs. Final error: 889795.50717\n",
      "Starting SGD with nu = 4.13993771879e-08, epsilon = 0.0001, initial error: 2960572358.8\n",
      "First change in error: 862370397.212\n",
      "SGD complete in 61 epochs. Final error: 527308.860187\n",
      "Starting SGD with nu = 1.12535174719e-07, epsilon = 0.0001, initial error: 2960572358.8\n",
      "First change in error: 1432254073.46\n",
      "SGD complete in 24 epochs. Final error: 302968.401458\n",
      "Starting SGD with nu = 3.05902320502e-07, epsilon = 0.0001, initial error: 2960572358.8\n",
      "First change in error: 2157509112.84\n",
      "SGD complete in 10 epochs. Final error: 121519.956549\n",
      "Starting SGD with nu = 8.31528719104e-07, epsilon = 0.0001, initial error: 2960572358.8\n",
      "First change in error: 2820086249.93\n",
      "SGD complete in 5 epochs. Final error: 43043.3445132\n",
      "Starting SGD with nu = 2.26032940698e-06, epsilon = 0.0001, initial error: 2960572358.8\n",
      "First change in error: 2959506749.48\n",
      "SGD complete in 3 epochs. Final error: 39983.601604\n",
      "Starting SGD with nu = 6.14421235333e-06, epsilon = 0.0001, initial error: 2960572358.8\n",
      "First change in error: 2960530770.7\n",
      "SGD complete in 2 epochs. Final error: 41469.3746336\n"
     ]
    },
    {
     "data": {
      "image/png": "[encoded data removed]",
      "text/plain": [
       "<matplotlib.figure.Figure at 0x1054a0bd0>"
      ]
     },
     "metadata": {},
     "output_type": "display_data"
    }
   ],
   "source": [
    "# Plot SGD trials over multiple eta values\n",
    "%matplotlib inline\n",
    "import matplotlib.pyplot as plt\n",
    "\n",
    "# make graphs bigger!\n",
    "plt.rcParams['figure.figsize'] = (12.0, 8.0)\n",
    "plt.figure()\n",
    "for i in np.arange(-18,-11):\n",
    "    W, errors = SGD(x, y, np.exp(i), epsilon, verbose=False)\n",
    "    plt.plot(errors, label='exp(' + str(i) + ')')\n",
    "    \n",
    "# plt.gca().set_yscale('log')\n",
    "plt.legend()\n",
    "plt.title(r'Error over number of epochs with varying $\\eta$ values')\n",
    "plt.xlabel('Number of epochs')\n",
    "plt.ylabel('Squared error')\n",
    "plt.show()"
   ]
  },
  {
   "cell_type": "markdown",
   "metadata": {
    "collapsed": true
   },
   "source": [
    "---"
   ]
  },
  {
   "cell_type": "code",
   "execution_count": 3,
   "metadata": {
    "collapsed": false
   },
   "outputs": [],
   "source": [
    "import numpy as np\n",
    "\n",
    "data = np.loadtxt('/Users/LeiyaMa/Desktop/question2data.txt', delimiter=',')\n",
    "X = data[:, 0:9]\n",
    "Y = data[:, 9]"
   ]
  },
  {
   "cell_type": "code",
   "execution_count": 5,
   "metadata": {
    "collapsed": false
   },
   "outputs": [
    {
     "ename": "NameError",
     "evalue": "name 'Lambda' is not defined",
     "output_type": "error",
     "traceback": [
      "\u001b[0;31m---------------------------------------------------------------------------\u001b[0m",
      "\u001b[0;31mNameError\u001b[0m                                 Traceback (most recent call last)",
      "\u001b[0;32m<ipython-input-5-60b2b5181203>\u001b[0m in \u001b[0;36m<module>\u001b[0;34m()\u001b[0m\n\u001b[1;32m      1\u001b[0m \u001b[0;32mfrom\u001b[0m \u001b[0msklearn\u001b[0m\u001b[0;34m.\u001b[0m\u001b[0mlinear_model\u001b[0m \u001b[0;32mimport\u001b[0m \u001b[0mLasso\u001b[0m\u001b[0;34m\u001b[0m\u001b[0m\n\u001b[0;32m----> 2\u001b[0;31m \u001b[0mclf\u001b[0m \u001b[0;34m=\u001b[0m \u001b[0mLasso\u001b[0m\u001b[0;34m(\u001b[0m\u001b[0malpha\u001b[0m\u001b[0;34m=\u001b[0m\u001b[0mLambda\u001b[0m\u001b[0;34m)\u001b[0m\u001b[0;34m\u001b[0m\u001b[0m\n\u001b[0m",
      "\u001b[0;31mNameError\u001b[0m: name 'Lambda' is not defined"
     ]
    }
   ],
   "source": [
    "from sklearn.linear_model import Lasso\n",
    "clf = Lasso(alpha=Lambda)\n"
   ]
  },
  {
   "cell_type": "code",
   "execution_count": null,
   "metadata": {
    "collapsed": true
   },
   "outputs": [],
   "source": []
  }
 ],
 "metadata": {
  "kernelspec": {
   "display_name": "Python 2",
   "language": "python",
   "name": "python2"
  },
  "language_info": {
   "codemirror_mode": {
    "name": "ipython",
    "version": 2
   },
   "file_extension": ".py",
   "mimetype": "text/x-python",
   "name": "python",
   "nbconvert_exporter": "python",
   "pygments_lexer": "ipython2",
   "version": "2.7.11"
  }
 },
 "nbformat": 4,
 "nbformat_minor": 0
}
